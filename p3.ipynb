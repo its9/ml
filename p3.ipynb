{
 "cells": [
  {
   "cell_type": "code",
   "execution_count": 2,
   "id": "b841a2e3-0571-4fac-a2af-c8dbfe5f0590",
   "metadata": {},
   "outputs": [
    {
     "name": "stdout",
     "output_type": "stream",
     "text": [
      "Red after 1 iter: [5.171 3.171]\n",
      "Green after 2 iter: [5.3 4. ]\n",
      "Blue on converge: [6.2   3.025]\n",
      "Iterations to converge: 3\n"
     ]
    }
   ],
   "source": [
    "import numpy as np\n",
    "from sklearn.cluster import KMeans\n",
    "\n",
    "X = np.array([[5.9, 3.2], [4.6, 2.9], [6.2, 2.8], [4.7, 3.2], [5.5, 4.2],\n",
    "              [5.0, 3.0], [4.9, 3.1], [6.7, 3.1], [5.1, 3.8], [6.0, 3.0]])\n",
    "\n",
    "init = np.array([[6.2, 3.2], [6.6, 3.7], [6.5, 3.0]])\n",
    "\n",
    "k1 = KMeans(n_clusters=3, init=init, n_init=1, max_iter=1).fit(X)\n",
    "print(\"Red after 1 iter:\", np.round(k1.cluster_centers_[0], 3))\n",
    "\n",
    "k2 = KMeans(n_clusters=3, init=k1.cluster_centers_, n_init=1, max_iter=1).fit(X)\n",
    "print(\"Green after 2 iter:\", np.round(k2.cluster_centers_[1], 3))\n",
    "\n",
    "kf = KMeans(n_clusters=3, init=init, n_init=1).fit(X)\n",
    "print(\"Blue on converge:\", np.round(kf.cluster_centers_[2], 3))\n",
    "print(\"Iterations to converge:\", kf.n_iter_)"
   ]
  }
 ],
 "metadata": {
  "kernelspec": {
   "display_name": "Python 3 (ipykernel)",
   "language": "python",
   "name": "python3"
  },
  "language_info": {
   "codemirror_mode": {
    "name": "ipython",
    "version": 3
   },
   "file_extension": ".py",
   "mimetype": "text/x-python",
   "name": "python",
   "nbconvert_exporter": "python",
   "pygments_lexer": "ipython3",
   "version": "3.12.3"
  }
 },
 "nbformat": 4,
 "nbformat_minor": 5
}
