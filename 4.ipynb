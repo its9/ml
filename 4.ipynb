{
 "cells": [
  {
   "cell_type": "code",
   "execution_count": null,
   "id": "8deba82b-5df5-4dd6-b194-afa8b4cc93b3",
   "metadata": {},
   "outputs": [],
   "source": [
    "import pandas as pd\n",
    "from sklearn.model_selection import train_test_split\n",
    "from sklearn.tree import DecisionTreeClassifier\n",
    "from sklearn.metrics import accuracy_score, confusion_matrix, classification_report\n",
    "import matplotlib.pyplot as plt\n",
    "from sklearn.tree import plot_tree\n",
    "\n",
    "# --- Load the dataset ---\n",
    "df = pd.read_csv(\"zoo.csv\")\n",
    "\n",
    "# --- Check the column names and data structure ---\n",
    "print(\"Column Names:\", df.columns)\n",
    "print(\"head:\",df.head())\n",
    "\n",
    "# --- Drop non-numeric and irrelevant columns ---\n",
    "# Let's assume 'animal_name' is a non-numeric column and 'class_type' is the target column\n",
    "X = df.drop(['animal_name', 'class_type'], axis=1)  # Drop 'animal_name' and 'class_type' column\n",
    "y = df['class_type']  # Target variable: the class of the animal\n",
    "\n",
    "# --- Train-test split ---\n",
    "X_train, X_test, y_train, y_test = train_test_split(X, y, test_size=0.3, random_state=42)\n",
    "\n",
    "# --- Train the Decision Tree Classifier ---\n",
    "model = DecisionTreeClassifier(criterion='entropy', random_state=42)\n",
    "model.fit(X_train, y_train)\n",
    "\n",
    "# --- Predict on test data ---\n",
    "y_pred = model.predict(X_test)\n",
    "\n",
    "# --- Evaluation ---\n",
    "print(f\"Accuracy: {accuracy_score(y_test, y_pred):.2f}\")\n",
    "\n",
    "# --- Confusion Matrix ---\n",
    "cm = confusion_matrix(y_test, y_pred)\n",
    "print(\"Confusion Matrix:\")\n",
    "print(cm)\n",
    "\n",
    "# --- Classification Report ---\n",
    "report = classification_report(y_test, y_pred)\n",
    "print(\"Classification Report:\")\n",
    "print(report)\n",
    "\n",
    "# --- Plot the Decision Tree ---\n",
    "plt.figure(figsize=(20,10))\n",
    "plot_tree(model, feature_names=X.columns, class_names=model.classes_.astype(str), filled=True)\n",
    "plt.title(\"Decision Tree for Zoo Dataset\")\n",
    "\n",
    "plt.show()\n"
   ]
  }
 ],
 "metadata": {
  "kernelspec": {
   "display_name": "Python 3 (ipykernel)",
   "language": "python",
   "name": "python3"
  },
  "language_info": {
   "codemirror_mode": {
    "name": "ipython",
    "version": 3
   },
   "file_extension": ".py",
   "mimetype": "text/x-python",
   "name": "python",
   "nbconvert_exporter": "python",
   "pygments_lexer": "ipython3",
   "version": "3.12.3"
  }
 },
 "nbformat": 4,
 "nbformat_minor": 5
}
