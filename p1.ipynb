{
 "cells": [
  {
   "cell_type": "code",
   "execution_count": 1,
   "id": "8d7ceda7-5fb3-48fb-9c3b-e1a2454d3ea0",
   "metadata": {},
   "outputs": [
    {
     "name": "stdout",
     "output_type": "stream",
     "text": [
      "Original Data: [115.3, 195.5, 120.5, 110.2, 90.4, 105.6, 110.9, 116.3, 122.3, 125.4]\n",
      "Mean: 121.24000000000001\n",
      "Median: 115.8\n",
      "Mode: 90.4\n",
      "Standard Deviation: 26.490987146574962\n",
      "Variance: 701.7724\n",
      "Min-Max Normalization: [np.float64(0.23691722169362506), np.float64(1.0), np.float64(0.2863939105613701), np.float64(0.18839200761179828), np.float64(0.0), np.float64(0.14462416745956222), np.float64(0.1950523311132255), np.float64(0.24643196955280677), np.float64(0.3035204567078972), np.float64(0.3330161750713606)]\n",
      "Standardization (Z-scores): [np.float64(-0.22422720478983732), np.float64(2.803217546749711), np.float64(-0.02793402887954231), np.float64(-0.4167455119326263), np.float64(-1.164169527898749), np.float64(-0.5903894752378875), np.float64(-0.3903214305600865), np.float64(-0.18647851711478058), np.float64(0.040013608935559664), np.float64(0.15703454072823578)]\n"
     ]
    }
   ],
   "source": [
    "import numpy as np\n",
    "from scipy import stats\n",
    "\n",
    "# Given array of values\n",
    "data = [115.3, 195.5, 120.5, 110.2, 90.4, 105.6, 110.9, 116.3, 122.3, 125.4]\n",
    "\n",
    "# Mean\n",
    "mean_val = np.mean(data)\n",
    "\n",
    "# Median\n",
    "median_val = np.median(data)\n",
    "\n",
    "# Mode\n",
    "mode_val = stats.mode(data, keepdims=True).mode[0]\n",
    "\n",
    "# Standard Deviation\n",
    "std_dev = np.std(data)\n",
    "\n",
    "# Variance\n",
    "variance_val = np.var(data)\n",
    "\n",
    "# Min-Max Normalization\n",
    "min_val = np.min(data)\n",
    "max_val = np.max(data)\n",
    "min_max_normalized = [(x - min_val) / (max_val - min_val) for x in data]\n",
    "\n",
    "# Standardization (Z-score normalization)\n",
    "standardized = [(x - mean_val) / std_dev for x in data]\n",
    "\n",
    "# Output all results\n",
    "print(f\"Original Data: {data}\")\n",
    "print(f\"Mean: {mean_val}\")\n",
    "print(f\"Median: {median_val}\")\n",
    "print(f\"Mode: {mode_val}\")\n",
    "print(f\"Standard Deviation: {std_dev}\")\n",
    "print(f\"Variance: {variance_val}\")\n",
    "print(f\"Min-Max Normalization: {min_max_normalized}\")\n",
    "print(f\"Standardization (Z-scores): {standardized}\")\n"
   ]
  },
  {
   "cell_type": "code",
   "execution_count": null,
   "id": "db0dc850-53fe-453b-acb1-ae2b880dc3b7",
   "metadata": {},
   "outputs": [],
   "source": []
  }
 ],
 "metadata": {
  "kernelspec": {
   "display_name": "Python 3 (ipykernel)",
   "language": "python",
   "name": "python3"
  },
  "language_info": {
   "codemirror_mode": {
    "name": "ipython",
    "version": 3
   },
   "file_extension": ".py",
   "mimetype": "text/x-python",
   "name": "python",
   "nbconvert_exporter": "python",
   "pygments_lexer": "ipython3",
   "version": "3.12.3"
  }
 },
 "nbformat": 4,
 "nbformat_minor": 5
}
