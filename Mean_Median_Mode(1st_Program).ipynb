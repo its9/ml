{
  "cells": [
    {
      "cell_type": "code",
      "execution_count": null,
      "metadata": {
        "collapsed": true,
        "id": "i7f-WIDpCgKI"
      },
      "outputs": [],
      "source": [
        "x=[115.3, 195.5, 120.5, 110.2, 90.4, 105.6, 110.9, 116.3, 122.3, 125.4,90.4]"
      ]
    },
    {
      "cell_type": "code",
      "execution_count": null,
      "metadata": {
        "collapsed": true,
        "id": "FxEY6wWzCgKJ"
      },
      "outputs": [],
      "source": [
        "mean = sum(x) / len(x)"
      ]
    },
    {
      "cell_type": "code",
      "execution_count": null,
      "metadata": {
        "id": "2ZBjQHAqCgKJ",
        "outputId": "6dd38c60-f62b-42b3-cbc3-2316a5ab8b6d"
      },
      "outputs": [
        {
          "data": {
            "text/plain": [
              "118.43636363636365"
            ]
          },
          "execution_count": 4,
          "metadata": {},
          "output_type": "execute_result"
        }
      ],
      "source": [
        "mean"
      ]
    },
    {
      "cell_type": "code",
      "execution_count": null,
      "metadata": {
        "collapsed": true,
        "id": "wIYofHOdCgKK"
      },
      "outputs": [],
      "source": [
        "import statistics"
      ]
    },
    {
      "cell_type": "code",
      "execution_count": null,
      "metadata": {
        "id": "EppRTJBeCgKK",
        "outputId": "4743ba72-d63c-45e5-e267-0015ff1d44ae"
      },
      "outputs": [
        {
          "name": "stdout",
          "output_type": "stream",
          "text": [
            "118.43636363636364\n"
          ]
        }
      ],
      "source": [
        "print(statistics.mean(x))"
      ]
    },
    {
      "cell_type": "code",
      "execution_count": null,
      "metadata": {
        "collapsed": true,
        "id": "Mxw2xao4CgKL"
      },
      "outputs": [],
      "source": [
        "x.sort()"
      ]
    },
    {
      "cell_type": "code",
      "execution_count": null,
      "metadata": {
        "id": "t1x6wBXpCgKL",
        "outputId": "7c374611-b81c-418b-f323-ad0defc215bc"
      },
      "outputs": [
        {
          "data": {
            "text/plain": [
              "[90.4, 90.4, 105.6, 110.2, 110.9, 115.3, 116.3, 120.5, 122.3, 125.4, 195.5]"
            ]
          },
          "execution_count": 8,
          "metadata": {},
          "output_type": "execute_result"
        }
      ],
      "source": [
        "x"
      ]
    },
    {
      "cell_type": "code",
      "execution_count": null,
      "metadata": {
        "collapsed": true,
        "id": "DVLeT8FeCgKM"
      },
      "outputs": [],
      "source": [
        "n=len(x)"
      ]
    },
    {
      "cell_type": "code",
      "execution_count": null,
      "metadata": {
        "id": "I5Hf3kEzCgKM",
        "outputId": "daed0595-24ed-43d7-8baf-5c35d2eb24ee"
      },
      "outputs": [
        {
          "name": "stdout",
          "output_type": "stream",
          "text": [
            "Median is: 115.3\n"
          ]
        }
      ],
      "source": [
        "if  n% 2 == 0:\n",
        "    median1 = x[n//2]\n",
        "    median2 = x[n//2 - 1]\n",
        "    median = (median1 + median2)/2\n",
        "else:\n",
        "    median = x[n//2]\n",
        "print(\"Median is: \" + str(median))"
      ]
    },
    {
      "cell_type": "code",
      "execution_count": null,
      "metadata": {
        "id": "QYujCIZTCgKN",
        "outputId": "0bc27728-e58b-463c-a694-10bac2edc806"
      },
      "outputs": [
        {
          "name": "stdout",
          "output_type": "stream",
          "text": [
            "115.3\n"
          ]
        }
      ],
      "source": [
        "print(statistics.median(x))"
      ]
    },
    {
      "cell_type": "code",
      "execution_count": null,
      "metadata": {
        "collapsed": true,
        "id": "wJVtcJwaCgKN"
      },
      "outputs": [],
      "source": [
        "frequency = {}\n",
        "for value in x:\n",
        "        frequency[value] = frequency.get(value, 0) + 1"
      ]
    },
    {
      "cell_type": "code",
      "execution_count": null,
      "metadata": {
        "id": "bYR9R_1iCgKN",
        "outputId": "d2d98d7e-a850-46bd-dba5-52ae6e6d2537"
      },
      "outputs": [
        {
          "data": {
            "text/plain": [
              "{90.4: 2,\n",
              " 105.6: 1,\n",
              " 110.2: 1,\n",
              " 110.9: 1,\n",
              " 115.3: 1,\n",
              " 116.3: 1,\n",
              " 120.5: 1,\n",
              " 122.3: 1,\n",
              " 125.4: 1,\n",
              " 195.5: 1}"
            ]
          },
          "execution_count": 13,
          "metadata": {},
          "output_type": "execute_result"
        }
      ],
      "source": [
        "frequency"
      ]
    },
    {
      "cell_type": "code",
      "execution_count": null,
      "metadata": {
        "id": "XSVJUD5qCgKO",
        "outputId": "55af48c6-7cda-41b5-8082-efe837579ad3"
      },
      "outputs": [
        {
          "name": "stdout",
          "output_type": "stream",
          "text": [
            "[2, 1, 1, 1, 1, 1, 1, 1, 1, 1]\n"
          ]
        }
      ],
      "source": [
        "frequencs=list(frequency.values())\n",
        "print(frequencs)"
      ]
    },
    {
      "cell_type": "code",
      "execution_count": null,
      "metadata": {
        "collapsed": true,
        "id": "DEiJzAgXCgKO"
      },
      "outputs": [],
      "source": [
        "most_frequent = max(frequencs)"
      ]
    },
    {
      "cell_type": "code",
      "execution_count": null,
      "metadata": {
        "id": "J7xLsNQmCgKO",
        "outputId": "5e21049a-1b99-4536-df4f-5581d69bd705"
      },
      "outputs": [
        {
          "data": {
            "text/plain": [
              "2"
            ]
          },
          "execution_count": 16,
          "metadata": {},
          "output_type": "execute_result"
        }
      ],
      "source": [
        "most_frequent"
      ]
    },
    {
      "cell_type": "code",
      "execution_count": null,
      "metadata": {
        "collapsed": true,
        "id": "jFbi9xgtCgKO"
      },
      "outputs": [],
      "source": [
        "modes = [key for key, value in frequency.items()\n",
        "                      if value == most_frequent]"
      ]
    },
    {
      "cell_type": "code",
      "execution_count": null,
      "metadata": {
        "id": "C5vqaHQ6CgKO",
        "outputId": "14afc619-de73-4a64-f481-b1e69e92a2ac"
      },
      "outputs": [
        {
          "data": {
            "text/plain": [
              "[90.4]"
            ]
          },
          "execution_count": 18,
          "metadata": {},
          "output_type": "execute_result"
        }
      ],
      "source": [
        "modes"
      ]
    },
    {
      "cell_type": "code",
      "execution_count": null,
      "metadata": {
        "id": "645nAd2OCgKO",
        "outputId": "ccd6bc30-bd93-41b8-c1a9-c873a4578b01"
      },
      "outputs": [
        {
          "name": "stdout",
          "output_type": "stream",
          "text": [
            "90.4\n"
          ]
        }
      ],
      "source": [
        "print(statistics.mode(x))"
      ]
    },
    {
      "cell_type": "code",
      "execution_count": null,
      "metadata": {
        "collapsed": true,
        "id": "OIkrzQw2CgKP"
      },
      "outputs": [],
      "source": [
        "variance = sum((i - mean) ** 2 for i in x) / (n-1)"
      ]
    },
    {
      "cell_type": "code",
      "execution_count": null,
      "metadata": {
        "id": "UDaeUS-VCgKP",
        "outputId": "7a8f8b38-be37-4cda-e3e3-18c4464f4eec"
      },
      "outputs": [
        {
          "data": {
            "text/plain": [
              "788.2365454545454"
            ]
          },
          "execution_count": 21,
          "metadata": {},
          "output_type": "execute_result"
        }
      ],
      "source": [
        "variance"
      ]
    },
    {
      "cell_type": "code",
      "execution_count": null,
      "metadata": {
        "id": "hZ5cwTwYCgKP",
        "outputId": "21b8cbb5-30a9-4690-8489-630c514442fb"
      },
      "outputs": [
        {
          "name": "stdout",
          "output_type": "stream",
          "text": [
            "788.2365454545454\n"
          ]
        }
      ],
      "source": [
        "print(statistics.variance(x))"
      ]
    },
    {
      "cell_type": "code",
      "execution_count": null,
      "metadata": {
        "collapsed": true,
        "id": "O3EPNIxyCgKP"
      },
      "outputs": [],
      "source": [
        "standarddev= variance ** 0.5"
      ]
    },
    {
      "cell_type": "code",
      "execution_count": null,
      "metadata": {
        "id": "5pe4XBF-CgKP",
        "outputId": "7d5385a9-9537-47a1-bd14-2b58c0c2da5c"
      },
      "outputs": [
        {
          "data": {
            "text/plain": [
              "28.07555067054866"
            ]
          },
          "execution_count": 24,
          "metadata": {},
          "output_type": "execute_result"
        }
      ],
      "source": [
        "standarddev"
      ]
    },
    {
      "cell_type": "code",
      "execution_count": null,
      "metadata": {
        "id": "yX5HyZ-PCgKP",
        "outputId": "e969536e-a13e-497f-bc3b-6d37fbb3f804"
      },
      "outputs": [
        {
          "name": "stdout",
          "output_type": "stream",
          "text": [
            "28.07555067054866\n"
          ]
        }
      ],
      "source": [
        "print(statistics.stdev(x))"
      ]
    },
    {
      "cell_type": "code",
      "execution_count": null,
      "metadata": {
        "collapsed": true,
        "id": "WAsMnBOKCgKP"
      },
      "outputs": [],
      "source": [
        "import numpy as np\n",
        "max = np.max(x)\n",
        "min = np.min(x)\n"
      ]
    },
    {
      "cell_type": "code",
      "execution_count": null,
      "metadata": {
        "collapsed": true,
        "id": "9aacB5ovCgKP"
      },
      "outputs": [],
      "source": [
        "scaled_arr = np.array([(i - min) / (max - min) for i in x])"
      ]
    },
    {
      "cell_type": "code",
      "execution_count": null,
      "metadata": {
        "id": "r9FXFX0kCgKP",
        "outputId": "43670ead-a6cc-44e3-9938-bb6e2e46cf42"
      },
      "outputs": [
        {
          "name": "stdout",
          "output_type": "stream",
          "text": [
            "[0.         0.         0.14462417 0.18839201 0.19505233 0.23691722\n",
            " 0.24643197 0.28639391 0.30352046 0.33301618 1.        ]\n"
          ]
        }
      ],
      "source": [
        "print(scaled_arr)"
      ]
    },
    {
      "cell_type": "code",
      "execution_count": null,
      "metadata": {
        "collapsed": true,
        "id": "BGfCrXMDCgKP"
      },
      "outputs": [],
      "source": [
        "x=[[-1, 2], [-0.5, 6], [0, 10], [1, 18]]"
      ]
    },
    {
      "cell_type": "code",
      "execution_count": null,
      "metadata": {
        "collapsed": true,
        "id": "WSwRNYhOCgKQ"
      },
      "outputs": [],
      "source": [
        "X=[115.3, 195.5, 120.5, 110.2, 90.4, 105.6, 110.9, 116.3, 122.3, 125.4,90.4]\n",
        "for i in range(len(X)):\n",
        "        X[i] = (X[i] - statistics.mean(X)) /(statistics.stdev(X))"
      ]
    },
    {
      "cell_type": "code",
      "execution_count": null,
      "metadata": {
        "collapsed": true,
        "id": "lAf2YiGwCgKQ"
      },
      "outputs": [],
      "source": [
        "X=[115.3, 195.5, 120.5, 110.2, 90.4, 105.6, 110.9, 116.3, 122.3, 125.4,90.4]"
      ]
    },
    {
      "cell_type": "code",
      "execution_count": null,
      "metadata": {
        "collapsed": true,
        "id": "3A7DvufLCgKQ"
      },
      "outputs": [],
      "source": [
        "stand_arr = np.array([(i -statistics.mean(X) ) / (statistics.stdev(X)) for i in X])"
      ]
    },
    {
      "cell_type": "code",
      "execution_count": null,
      "metadata": {
        "id": "b_J2eghVCgKQ",
        "outputId": "8acc93d3-3ce4-49ef-ca42-264d2b42235d"
      },
      "outputs": [
        {
          "data": {
            "text/plain": [
              "array([-0.11171156,  2.74486642,  0.07350297, -0.29336428, -0.99860423,\n",
              "       -0.4572079 , -0.26843155, -0.07609338,  0.13761569,  0.24803205,\n",
              "       -0.99860423])"
            ]
          },
          "execution_count": 50,
          "metadata": {},
          "output_type": "execute_result"
        }
      ],
      "source": [
        "stand_arr"
      ]
    },
    {
      "cell_type": "code",
      "execution_count": null,
      "metadata": {
        "id": "3MXfKvQPCgKQ",
        "outputId": "79e8b5a4-c55b-4fe6-b33f-18e06d00f505"
      },
      "outputs": [
        {
          "name": "stdout",
          "output_type": "stream",
          "text": [
            "-0.0\n"
          ]
        }
      ],
      "source": [
        "print(round(statistics.mean(stand_arr),2))"
      ]
    }
  ],
  "metadata": {
    "kernelspec": {
      "display_name": "Python 3",
      "language": "python",
      "name": "python3"
    },
    "language_info": {
      "codemirror_mode": {
        "name": "ipython",
        "version": 3
      },
      "file_extension": ".py",
      "mimetype": "text/x-python",
      "name": "python",
      "nbconvert_exporter": "python",
      "pygments_lexer": "ipython3",
      "version": "3.6.3"
    },
    "colab": {
      "provenance": []
    }
  },
  "nbformat": 4,
  "nbformat_minor": 0
}