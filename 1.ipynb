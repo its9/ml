{
 "cells": [
  {
   "cell_type": "code",
   "execution_count": 1,
   "id": "49aeaad8-2ab7-4821-aa2d-1c8744d7a505",
   "metadata": {},
   "outputs": [
    {
     "name": "stdout",
     "output_type": "stream",
     "text": [
      "Original Data: [115.3, 195.5, 120.5, 110.2, 90.4, 105.6, 110.9, 116.3, 122.3, 125.4]\n",
      "Mean: 121.24000000000001\n",
      "Median: 115.8\n",
      "Mode: 115.3\n",
      "Standard Deviation: 26.490987146574966\n",
      "Variance: 701.7724000000001\n",
      "Min-Max Normalization: [0.23691722169362506, 1.0, 0.2863939105613701, 0.18839200761179828, 0.0, 0.14462416745956222, 0.1950523311132255, 0.24643196955280677, 0.3035204567078972, 0.3330161750713606]\n",
      "Standardization (Z-scores): [-0.22422720478983726, 2.8032175467497105, -0.027934028879542303, -0.41674551193262627, -1.164169527898749, -0.5903894752378874, -0.39032143056008645, -0.18647851711478058, 0.04001360893555966, 0.15703454072823575]\n"
     ]
    }
   ],
   "source": [
    "# Given data\n",
    "data = [115.3, 195.5, 120.5, 110.2, 90.4, 105.6, 110.9, 116.3, 122.3, 125.4]\n",
    "\n",
    "# Number of elements\n",
    "n = len(data)\n",
    "\n",
    "# Mean\n",
    "mean_val = sum(data) / n\n",
    "\n",
    "# Median\n",
    "sorted_data = sorted(data)\n",
    "if n % 2 == 0:\n",
    "    median_val = (sorted_data[n//2 - 1] + sorted_data[n//2]) / 2\n",
    "else:\n",
    "    median_val = sorted_data[n//2]\n",
    "\n",
    "# Mode\n",
    "frequency = {}\n",
    "for num in data:\n",
    "    frequency[num] = frequency.get(num, 0) + 1\n",
    "max_count = max(frequency.values())\n",
    "mode_val = [key for key, value in frequency.items() if value == max_count][0]\n",
    "\n",
    "# Variance\n",
    "variance_val = sum((x - mean_val) ** 2 for x in data) / n\n",
    "\n",
    "# Standard Deviation\n",
    "std_dev = variance_val ** 0.5\n",
    "\n",
    "# Min-Max Normalization\n",
    "min_val = min(data)\n",
    "max_val = max(data)\n",
    "min_max_normalized = [(x - min_val) / (max_val - min_val) for x in data]\n",
    "\n",
    "# Standardization (Z-score)\n",
    "standardized = [(x - mean_val) / std_dev for x in data]\n",
    "\n",
    "# Output\n",
    "print(f\"Original Data: {data}\")\n",
    "print(f\"Mean: {mean_val}\")\n",
    "print(f\"Median: {median_val}\")\n",
    "print(f\"Mode: {mode_val}\")\n",
    "print(f\"Standard Deviation: {std_dev}\")\n",
    "print(f\"Variance: {variance_val}\")\n",
    "print(f\"Min-Max Normalization: {min_max_normalized}\")\n",
    "print(f\"Standardization (Z-scores): {standardized}\")"
   ]
  },
  {
   "cell_type": "code",
   "execution_count": null,
   "id": "ef79a151-5a50-4d1a-a854-c9c46ac618b9",
   "metadata": {},
   "outputs": [],
   "source": []
  }
 ],
 "metadata": {
  "kernelspec": {
   "display_name": "Python 3 (ipykernel)",
   "language": "python",
   "name": "python3"
  },
  "language_info": {
   "codemirror_mode": {
    "name": "ipython",
    "version": 3
   },
   "file_extension": ".py",
   "mimetype": "text/x-python",
   "name": "python",
   "nbconvert_exporter": "python",
   "pygments_lexer": "ipython3",
   "version": "3.12.3"
  }
 },
 "nbformat": 4,
 "nbformat_minor": 5
}
